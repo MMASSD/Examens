{
 "cells": [
  {
   "cell_type": "markdown",
   "id": "b935880c",
   "metadata": {},
   "source": [
    "# Outils informatiques pour le \"big data\"\n",
    "\n",
    "## Contrôle du 14 décembre 2017"
   ]
  },
  {
   "cell_type": "markdown",
   "id": "b8477efc",
   "metadata": {},
   "source": [
    "### Comptage de mots dans les traductions anglaises de 4 romans francais."
   ]
  },
  {
   "cell_type": "markdown",
   "id": "7e44b1c9",
   "metadata": {},
   "source": [
    "Nous allons travailler avec les 4 textes des auteurs suivants\n",
    "\n",
    "- Victor Hugo http://www.gutenberg.org/files/135/135-0.txt\n",
    "- Marcel Proust http://www.gutenberg.org/files/7178/7178-8.txt\n",
    "- Emile Zola http://www.gutenberg.org/files/1069/1069-0.txt\n",
    "- Stendhal http://www.gutenberg.org/files/44747/44747-0.txt\n",
    "\n",
    "Pour ceux qui utilisent le proxy, téléchargez ces fichiers directement depuis votre navigateur. Sinon vous pouvez exécutez la cellule suivante."
   ]
  },
  {
   "cell_type": "code",
   "execution_count": null,
   "id": "2fa0eef6",
   "metadata": {},
   "outputs": [],
   "source": [
    "%mkdir -p books\n",
    "import urllib.request as url\n",
    "url.urlretrieve(\"http://www.gutenberg.org/files/135/135-0.txt\",     filename=\"books/hugo.txt\")\n",
    "url.urlretrieve(\"http://www.gutenberg.org/files/7178/7178-8.txt\",   filename=\"books/proust.txt\")\n",
    "url.urlretrieve(\"http://www.gutenberg.org/files/1069/1069-0.txt\",   filename=\"books/zola.txt\")\n",
    "url.urlretrieve(\"http://www.gutenberg.org/files/44747/44747-0.txt\", filename=\"books/stendhal.txt\")"
   ]
  },
  {
   "cell_type": "markdown",
   "id": "cae2c8f8",
   "metadata": {},
   "source": [
    "### Liste de fichiers\n",
    "\n",
    "- Créer une liste `filenames` contenant les noms des fichiers contenant les text des 4 livres."
   ]
  },
  {
   "cell_type": "code",
   "execution_count": null,
   "id": "da8b6f67",
   "metadata": {},
   "outputs": [],
   "source": [
    "import os, glob\n",
    "here = os.getcwd()\n",
    "filenames = sorted(glob.glob(os.path.join(here, 'books', '*.txt')))                                    "
   ]
  },
  {
   "cell_type": "markdown",
   "id": "475bddcb",
   "metadata": {},
   "source": [
    "### Fonction `wordcount_map`\n",
    "\n",
    "- Coder une fonction nommée `wordcount_map` permettant de lire un fichier et de compter \n",
    "les mots transformés en minuscules et ne contenant que des lettres de l'alphabet.\n",
    "- Cette fonction renvoie un dictionnaire dont chaque mot du texte une clé et son\n",
    "nombre d'occurences la valeur corespondante."
   ]
  },
  {
   "cell_type": "code",
   "execution_count": null,
   "id": "b66dd3c2",
   "metadata": {},
   "outputs": [],
   "source": [
    "def wordcount_map(textfile):\n",
    "                                     \n",
    "    with open(textfile,'r',encoding='latin-1') as f:\n",
    "       words = []\n",
    "       for line in f:\n",
    "          word_list = line.strip('\\n').strip('\\r').strip('.').strip(',').split(' ')\n",
    "          words.append([word.lower() for word in word_list if word.isalpha()])\n",
    "    \n",
    "    result = {}\n",
    "\n",
    "    for sentence in words:\n",
    "       for word in sentence:\n",
    "          try:\n",
    "             result[word] += 1 \n",
    "          except KeyError:\n",
    "             result[word] = 1\n",
    "                \n",
    "    return result"
   ]
  },
  {
   "cell_type": "markdown",
   "id": "24fc6c9e",
   "metadata": {},
   "source": [
    "- Avec une boucle for, appliquer cette fonction sur la liste `filenames`.\n",
    "- Afficher le nombre de mots différents pour chaque livre"
   ]
  },
  {
   "cell_type": "code",
   "execution_count": null,
   "id": "c50dcb8e",
   "metadata": {},
   "outputs": [],
   "source": [
    "filenames"
   ]
  },
  {
   "cell_type": "markdown",
   "id": "7174c266",
   "metadata": {},
   "source": [
    "### Fonction `wordcount_reduce`\n",
    "\n",
    "- Coder une fonction avec comme argument une liste de dictionnaires calculés chacun par la fonction `wordcount_map` qui retourne un dictionnaire les mots apparaissant dans **tous** les livres avec leur nombre d'occurences total. \n",
    "\n",
    "- Ecrire le code et donner le nombre d'apparitions du mot `valjean` dans `les misérables`."
   ]
  },
  {
   "cell_type": "code",
   "execution_count": null,
   "id": "b42bf6fd",
   "metadata": {},
   "outputs": [],
   "source": [
    "import operator\n",
    "\n",
    "def wordcount_reduce(dict_list):\n",
    "    result = {}\n",
    "    for d in dict_list:\n",
    "        for k, v in d.items():\n",
    "            try:\n",
    "                result[k] += v\n",
    "            except KeyError:\n",
    "                result[k] = v\n",
    "\n",
    "    return result"
   ]
  },
  {
   "cell_type": "code",
   "execution_count": null,
   "id": "b27a1d28",
   "metadata": {},
   "outputs": [],
   "source": [
    "%%time\n",
    "\n",
    "import operator\n",
    "dict_list = [wordcount_map(filenames[0])] \n",
    "counts = wordcount_reduce(dict_list)\n",
    "result = sorted(counts.items(), key=operator.itemgetter(1), reverse=True)"
   ]
  },
  {
   "cell_type": "code",
   "execution_count": null,
   "id": "7404a8b4",
   "metadata": {},
   "outputs": [],
   "source": [
    "for mot, occurence in result:\n",
    "    if mot == 'valjean':\n",
    "        print(occurence)"
   ]
  },
  {
   "cell_type": "markdown",
   "id": "acbc6848",
   "metadata": {},
   "source": [
    "### Version sequentielle\n",
    "\n",
    "- Ecrire la boucle `for` qui permet de calculer les occurences des mots dans les 4 livres.\n",
    "- Afficher les 5 premiers mots les plus courants."
   ]
  },
  {
   "cell_type": "code",
   "execution_count": null,
   "id": "4eb66773",
   "metadata": {},
   "outputs": [],
   "source": [
    "import itertools\n",
    "mapped_values = []\n",
    "for f in filenames:\n",
    "   mapped_values.append(wordcount_map(f))\n",
    "\n",
    "result = wordcount_reduce(mapped_values)\n",
    "sorted(result.items(),key=operator.itemgetter(1), reverse=True)[:5]"
   ]
  },
  {
   "cell_type": "markdown",
   "id": "4a2bb7e7",
   "metadata": {},
   "source": [
    "- Remplacer cette boucle en utilisant `map`"
   ]
  },
  {
   "cell_type": "code",
   "execution_count": null,
   "id": "7914ab8f",
   "metadata": {},
   "outputs": [],
   "source": [
    "import itertools\n",
    "mapped_values = map(wordcount_map,filenames)\n",
    "\n",
    "result = wordcount_reduce(mapped_values)\n",
    "sorted(result.items(),key=operator.itemgetter(1), reverse=True)[:5]"
   ]
  },
  {
   "cell_type": "markdown",
   "id": "c7547487",
   "metadata": {},
   "source": [
    "### Version parallèle\n",
    "\n",
    "- Paralléliser l'étape utilisant `wordcount_map` sur 4 processus avec concurrent.futures"
   ]
  },
  {
   "cell_type": "code",
   "execution_count": null,
   "id": "5019e095",
   "metadata": {},
   "outputs": [],
   "source": [
    "%%time\n",
    "\n",
    "from concurrent.futures import ProcessPoolExecutor\n",
    "e = ProcessPoolExecutor(4)\n",
    "\n",
    "mapped_values = list(e.map(wordcount_map,filenames))\n",
    "result = wordcount_reduce(mapped_values)"
   ]
  },
  {
   "cell_type": "code",
   "execution_count": null,
   "id": "10e2511f",
   "metadata": {},
   "outputs": [],
   "source": [
    "sorted(result.items(),key=operator.itemgetter(1), reverse=True)[:5]"
   ]
  },
  {
   "cell_type": "markdown",
   "id": "65b2cb42",
   "metadata": {},
   "source": [
    "### PySpark\n",
    "\n",
    "- Paralleliser la boucle avec PySpark"
   ]
  },
  {
   "cell_type": "code",
   "execution_count": null,
   "id": "89cd3a26",
   "metadata": {
    "lines_to_next_cell": 2
   },
   "outputs": [],
   "source": [
    "import pyspark\n",
    "\n",
    "sc = pyspark.SparkContext('local[4]')"
   ]
  },
  {
   "cell_type": "code",
   "execution_count": null,
   "id": "176102ff",
   "metadata": {},
   "outputs": [],
   "source": [
    "%%time\n",
    "\n",
    "rdd = sc.parallelize(filenames)\n",
    "mapped_values = rdd.map(wordcount_map).collect()"
   ]
  },
  {
   "cell_type": "code",
   "execution_count": null,
   "id": "e5de6f4f",
   "metadata": {},
   "outputs": [],
   "source": [
    "result = wordcount_reduce(mapped_values)"
   ]
  },
  {
   "cell_type": "code",
   "execution_count": null,
   "id": "73c61f8e",
   "metadata": {},
   "outputs": [],
   "source": [
    "sorted(result.items(),key=operator.itemgetter(1), reverse=True)[:5]"
   ]
  },
  {
   "cell_type": "code",
   "execution_count": null,
   "id": "dde808ff",
   "metadata": {},
   "outputs": [],
   "source": [
    "sc.stop()"
   ]
  },
  {
   "cell_type": "markdown",
   "id": "1dcf78a8",
   "metadata": {},
   "source": [
    "### Dask.bag\n",
    "\n",
    "- Paralléliser la boucle avec Dask.bag"
   ]
  },
  {
   "cell_type": "code",
   "execution_count": null,
   "id": "80284ca8",
   "metadata": {},
   "outputs": [],
   "source": [
    "import dask.bag as db\n",
    "\n",
    "bag = db.from_sequence(filenames)\n",
    "mapped_values = bag.map(wordcount_map).compute()\n"
   ]
  },
  {
   "cell_type": "code",
   "execution_count": null,
   "id": "8e980df4",
   "metadata": {},
   "outputs": [],
   "source": [
    "result = wordcount_reduce(mapped_values)\n",
    "sorted(result.items(),key=operator.itemgetter(1), reverse=True)[:5]"
   ]
  },
  {
   "cell_type": "markdown",
   "id": "a362383a",
   "metadata": {},
   "source": [
    "### Dask.delayed\n",
    "\n",
    "- Paralléliser la boucle avec Dask.delayed"
   ]
  },
  {
   "cell_type": "code",
   "execution_count": null,
   "id": "ea538ada",
   "metadata": {},
   "outputs": [],
   "source": [
    "%%time\n",
    "\n",
    "from dask import delayed, compute\n",
    "import dask.multiprocessing\n",
    "\n",
    "delayed_values = [delayed(wordcount_map)(f) for f in filenames]\n",
    "\n",
    "mapped_values = compute(*delayed_values, get=dask.multiprocessing.get)"
   ]
  },
  {
   "cell_type": "code",
   "execution_count": null,
   "id": "95e38fde",
   "metadata": {},
   "outputs": [],
   "source": [
    "result = wordcount_reduce(mapped_values)\n",
    "sorted(result.items(),key=operator.itemgetter(1), reverse=True)[:5]"
   ]
  },
  {
   "cell_type": "markdown",
   "id": "cc4c1fde",
   "metadata": {},
   "source": [
    "## Bonus: \n",
    " - Donner la liste des mots communs au 4 livres commencant par `q`."
   ]
  },
  {
   "cell_type": "code",
   "execution_count": null,
   "id": "557c6cb0",
   "metadata": {},
   "outputs": [],
   "source": [
    "for w in list(set.intersection(*(set(d.keys()) for d in mapped_values))):\n",
    "    if w.startswith('q'):\n",
    "        print(w)"
   ]
  },
  {
   "cell_type": "code",
   "execution_count": null,
   "id": "7d89bc6a",
   "metadata": {},
   "outputs": [],
   "source": []
  }
 ],
 "metadata": {
  "jupytext": {
   "encoding": "# -*- coding: utf-8 -*-"
  },
  "kernelspec": {
   "display_name": "Python 3",
   "language": "python",
   "name": "python3"
  }
 },
 "nbformat": 4,
 "nbformat_minor": 5
}

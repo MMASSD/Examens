{
 "cells": [
  {
   "cell_type": "markdown",
   "id": "bd9b3243",
   "metadata": {
    "slideshow": {
     "slide_type": "slide"
    }
   },
   "source": [
    "# Outils informatiques pour le big data\n",
    "\n",
    "## Examen du vendredi 7 septembre 2018\n"
   ]
  },
  {
   "cell_type": "markdown",
   "id": "fc8ccf62",
   "metadata": {},
   "source": [
    "## Question 1  (1 point)\n",
    "Ecrire une fonction `reverse` qui renvoie l'entier passé en argument mais lu de droite à gauche.\n",
    "```py\n",
    ">>> reverse(13)\n",
    "31\n",
    "```"
   ]
  },
  {
   "cell_type": "code",
   "execution_count": null,
   "id": "070074e7",
   "metadata": {},
   "outputs": [],
   "source": [
    "def reverse(n):\n",
    "    return int(str(n)[::-1])\n",
    "reverse(12334567)"
   ]
  },
  {
   "cell_type": "markdown",
   "id": "3c83b3b5",
   "metadata": {
    "slideshow": {
     "slide_type": "slide"
    }
   },
   "source": [
    "**Ecrire une fonction `palindromic` qui revoie `True` si le nombre passé en argument est palindromique:**\n",
    "```py\n",
    ">>> palindromic(121), palindromic(122)\n",
    "True, False\n",
    "```"
   ]
  },
  {
   "cell_type": "code",
   "execution_count": null,
   "id": "2a239815",
   "metadata": {},
   "outputs": [],
   "source": [
    "def palindromic(n):\n",
    "    s = str(n)\n",
    "    return s == s[::-1]"
   ]
  },
  {
   "cell_type": "markdown",
   "id": "1eb77024",
   "metadata": {},
   "source": [
    "**En utilisant les deux fonctions précedentes, calculer la somme des nombres non palindromiques inférieurs à une valeur nmax possédant la propriété suivante**:\n",
    "\n",
    "*le carré du nombre inversé est égale au nombre inversé élévé au carré*."
   ]
  },
  {
   "cell_type": "markdown",
   "id": "6079f257",
   "metadata": {
    "slideshow": {
     "slide_type": "slide"
    }
   },
   "source": [
    "- écrire une version utilisant un structure `for...if...`\n",
    "- écrire une autre version en utilisant les deux fonctions python `filter` et `sum`."
   ]
  },
  {
   "cell_type": "code",
   "execution_count": null,
   "id": "e0a5f888",
   "metadata": {},
   "outputs": [],
   "source": [
    "def skinny_sum_with_for_loop(nmax):\n",
    "    result = 0\n",
    "    for n in range(nmax):\n",
    "        if not palindromic(n) and reverse(n)**2 == reverse(n**2):\n",
    "            result += n\n",
    "    return result\n",
    "\n",
    "print(skinny_sum_with_for_loop(1000))\n",
    "%timeit skinny_sum_with_for_loop(1000)"
   ]
  },
  {
   "cell_type": "code",
   "execution_count": null,
   "id": "a12207bb",
   "metadata": {},
   "outputs": [],
   "source": [
    "def skinny_sum_with_filter(nmax):\n",
    "    f = lambda n: not palindromic(n) and reverse(n)**2 == reverse(n**2)\n",
    "    return sum(filter(f,range(nmax)))\n",
    "\n",
    "print(skinny_sum_with_filter(1000))\n",
    "%timeit skinny_sum_with_filter(1000)"
   ]
  },
  {
   "cell_type": "markdown",
   "id": "6cd3ae7f",
   "metadata": {
    "slideshow": {
     "slide_type": "slide"
    }
   },
   "source": [
    "# Calcul parallèle\n",
    "\n",
    "On souhaite appliqué la fonction reverse en utilisant le calcul parallèle.\n",
    "\n",
    "**Paralléliser la fonction `serial_map` en utilisant [concurrent.futures](https://docs.python.org/3/library/concurrent.futures.html)**"
   ]
  },
  {
   "cell_type": "code",
   "execution_count": null,
   "id": "a7c5a374",
   "metadata": {},
   "outputs": [],
   "source": [
    "%%time \n",
    "from time import sleep\n",
    "\n",
    "def perform_computation(f, result, data, i):\n",
    "    sleep(1) # pause d'une seconde\n",
    "    print (\"Computing the \", i, \"th result...\")\n",
    "    result[i] = f(data[i])\n",
    "\n",
    "def serial_map(f, data):\n",
    "    result = [None] * len(data)\n",
    "    for i in range(len(data)):\n",
    "        perform_computation(f, result, data, i)\n",
    "    return result\n",
    "\n",
    "data = [12, 86, 8, 24, 11, 21, 66, 11, 29, 34]\n",
    "\n",
    "result = serial_map(lambda x: reverse(x), data )\n",
    "\n",
    "print(result)"
   ]
  },
  {
   "cell_type": "code",
   "execution_count": null,
   "id": "7747beb5",
   "metadata": {},
   "outputs": [],
   "source": [
    "%%time\n",
    "\n",
    "from concurrent.futures import ThreadPoolExecutor\n",
    "\n",
    "def parallel_map(f, data):\n",
    "    result = [None] * len(data)\n",
    "    tasks = []\n",
    "    with ThreadPoolExecutor() as e:\n",
    "        for i in range(len(data)):\n",
    "            tasks.append(e.submit(perform_computation,f, result, data, i))\n",
    "        _ = [t.result() for t in tasks]\n",
    "    return result\n",
    "\n",
    "data = [12, 86, 8, 24, 11, 21, 66, 11, 29, 34]\n",
    "\n",
    "result = parallel_map(lambda x: reverse(x), data )\n",
    "\n",
    "print(result)    "
   ]
  },
  {
   "cell_type": "markdown",
   "id": "1779abb1",
   "metadata": {
    "slideshow": {
     "slide_type": "slide"
    }
   },
   "source": [
    "## Genome\n",
    "\n",
    "- Ecrivez un programme pour calculer les fréquences des sequences de cinq bases d'un génome, et trier ces sequences dans l'ordre décroissant des fréquences.\n",
    "\n",
    "**Lire les lignes du fichier \"genome.txt\" et créer à partir de celles-ci une liste de sequences de longueur 5**\n",
    "\n",
    "```py\n",
    ">>> seq_split(\"masterpythonbigdatas\")\n",
    "['maste','rpyth','onbig','datas')\n",
    "```\n",
    "\n",
    "**Ecrire une fonction calculant la fréquence d'apparition des différentes séquences**\n",
    "\n",
    "**Afficher les 10 premières séquences les plus fréquentes avec la valeur de leur fréquence.**"
   ]
  },
  {
   "cell_type": "markdown",
   "id": "1312c605",
   "metadata": {},
   "source": [
    "## Version parallèle \n",
    "\n",
    "Coder une version parallèle en utilisant \n",
    "- [Spark RDD](https://spark.apache.org/docs/latest/rdd-programming-guide.html)\n",
    "- [Dask Bag](http://dask.pydata.org/en/latest/bag-creation.html)"
   ]
  },
  {
   "cell_type": "code",
   "execution_count": null,
   "id": "b8754050",
   "metadata": {},
   "outputs": [],
   "source": [
    "def group_characters(line, n=5):\n",
    "    result = ''\n",
    "    i = 0\n",
    "    for ch in line:\n",
    "        result = result + ch\n",
    "        i = i + 1\n",
    "        if i % n == 0:\n",
    "            yield result\n",
    "            result = ''\n",
    "\n",
    "def group_and_split(line):\n",
    "    return [sequence for sequence in group_characters(line)]"
   ]
  },
  {
   "cell_type": "code",
   "execution_count": null,
   "id": "8591f871",
   "metadata": {},
   "outputs": [],
   "source": [
    "group_and_split('abcdefghijklmno')"
   ]
  },
  {
   "cell_type": "code",
   "execution_count": null,
   "id": "d68abd2e",
   "metadata": {},
   "outputs": [],
   "source": [
    "genome = 'genome.txt'\n",
    "from operator import itemgetter\n",
    "with open(genome) as f:\n",
    "    data = f.readlines()\n",
    "    \n",
    "res = dict()\n",
    "for line in data:\n",
    "    for key in group_and_split(line):\n",
    "        try:\n",
    "            res[key] += 1\n",
    "        except KeyError:\n",
    "            res[key] = 1\n",
    "        \n",
    "dict(sorted(res.items(), key=itemgetter(1), reverse=True)[:10])"
   ]
  },
  {
   "cell_type": "code",
   "execution_count": null,
   "id": "3d8b8605",
   "metadata": {},
   "outputs": [],
   "source": [
    "from pyspark import SparkContext\n",
    "\n",
    "sc = SparkContext('local[*]')"
   ]
  },
  {
   "cell_type": "code",
   "execution_count": null,
   "id": "f5f7404b",
   "metadata": {},
   "outputs": [],
   "source": [
    "\n",
    "genome = 'genome.txt'\n",
    "\n",
    "rdd = sc.textFile(genome)\n",
    "counts = rdd.flatMap(group_and_split) \\\n",
    ".map(lambda word: (word, 1)) \\\n",
    ".reduceByKey(lambda x, y: x + y)\n",
    "\n",
    "counts.takeOrdered(10,lambda atuple: -atuple[1])"
   ]
  },
  {
   "cell_type": "code",
   "execution_count": null,
   "id": "ac1ac3f1",
   "metadata": {},
   "outputs": [],
   "source": [
    "sc.stop()"
   ]
  },
  {
   "cell_type": "code",
   "execution_count": null,
   "id": "2b8efc8b",
   "metadata": {},
   "outputs": [],
   "source": [
    "import dask.bag as db\n",
    "b = db.read_text(genome)"
   ]
  },
  {
   "cell_type": "code",
   "execution_count": null,
   "id": "0257163e",
   "metadata": {},
   "outputs": [],
   "source": [
    "frequencies = b.map(group_and_split).flatten().frequencies().topk(10, lambda x: x[1])"
   ]
  },
  {
   "cell_type": "code",
   "execution_count": null,
   "id": "4145c214",
   "metadata": {},
   "outputs": [],
   "source": [
    "frequencies.compute()"
   ]
  }
 ],
 "metadata": {
  "jupytext": {
   "encoding": "# -*- coding: utf-8 -*-"
  },
  "kernelspec": {
   "display_name": "Python 3",
   "language": "python",
   "name": "python3"
  }
 },
 "nbformat": 4,
 "nbformat_minor": 5
}

{
 "cells": [
  {
   "cell_type": "code",
   "execution_count": null,
   "id": "b08eb176",
   "metadata": {},
   "outputs": [],
   "source": [
    "\n",
    "# # Outils informatiques pour le Big Data\n",
    "# \n",
    "# ## Examen du 05 décembre 2018\n",
    "# \n",
    "# **Prénom:**\n",
    "# \n",
    "# **Nom:**\n",
    "# \n",
    "# *Attention vous devez déposer ce fichier sur [cursus](https://cursus.univ-rennes2.fr/course/view.php?id=11467) avant 12h45*\n",
    "# \n",
    "# Les données fournies pour cette examen sont les crimes reportés dans une grande ville américaine durant une année."
   ]
  },
  {
   "cell_type": "code",
   "execution_count": null,
   "id": "0747856a",
   "metadata": {},
   "outputs": [],
   "source": [
    "\n",
    "\n",
    "import findspark\n",
    "findspark.init()\n",
    "\n",
    "\n",
    "# ## Exercice 1\n",
    "# \n",
    "# *1 point*\n",
    "# \n",
    "# Créez une session de type `SparkContext` nommée `sc` avec deux processeurs "
   ]
  },
  {
   "cell_type": "code",
   "execution_count": null,
   "id": "9918e67f",
   "metadata": {
    "lines_to_next_cell": 2
   },
   "outputs": [],
   "source": [
    "\n",
    "\n",
    "# Create a local spark cluster with 2 workers"
   ]
  },
  {
   "cell_type": "code",
   "execution_count": null,
   "id": "6746c7db",
   "metadata": {},
   "outputs": [],
   "source": [
    "\n",
    "\n",
    "sc\n",
    "\n",
    "\n",
    "# Vérifier que votre session fonctionne correctement en testant le programme suivant:"
   ]
  },
  {
   "cell_type": "code",
   "execution_count": null,
   "id": "317b4779",
   "metadata": {
    "lines_to_next_cell": 2
   },
   "outputs": [],
   "source": [
    "\n",
    "\n",
    "rdd = sc.parallelize(range(8))  # create collection"
   ]
  },
  {
   "cell_type": "code",
   "execution_count": null,
   "id": "5df560b9",
   "metadata": {},
   "outputs": [],
   "source": [
    "\n",
    "\n",
    "rdd.collect()\n",
    "\n",
    "\n",
    "# ## Exercice 2\n",
    "# \n",
    "# *3 points*\n",
    "# \n",
    "# Lisez les données se trouvant dans le fichier `big-data/data/philadelphia-crime-data-2015-ytd.csv` et stocker les dans une variable nommée `base_rdd`"
   ]
  },
  {
   "cell_type": "code",
   "execution_count": null,
   "id": "a9fb4064",
   "metadata": {},
   "outputs": [],
   "source": [
    "\n",
    "\n",
    "base_rdd = sc.textFile(\"file:///####/big-data/data/philadelphia-crime-data-2015-ytd.csv\")\n",
    "\n",
    "\n",
    "# **Question**: La variable `base_rdd` contient-elle déjà les données ?\n",
    "# \n",
    "#  * [ ] Oui\n",
    "#  * [ ] Non\n",
    "\n",
    "# Afficher les 10 premières observations:"
   ]
  },
  {
   "cell_type": "code",
   "execution_count": null,
   "id": "d14313b0",
   "metadata": {},
   "outputs": [],
   "source": [
    "\n",
    "\n",
    "## code\n",
    "\n",
    "\n",
    "# Filtrons la première ligne pour ne pas tenir compte de la ligne d'entête."
   ]
  },
  {
   "cell_type": "code",
   "execution_count": null,
   "id": "dd3f87f0",
   "metadata": {},
   "outputs": [],
   "source": [
    "\n",
    "\n",
    "no_header_rdd = base_rdd.filter(lambda line: 'SECTOR' not in line)\n",
    "\n",
    "\n",
    "# ## Description des variables\n",
    "# \n",
    "# * `DC_DIST` (integer): District number\n",
    "# * `SECTOR` (integer): Sector or PSA Number\n",
    "# * `DISPATCH_DATE` (date string): Date of Incident \n",
    "# * `DISPATCH_TIME` (time string): Time of Incident\n",
    "# * `DC_KEY`: (text): Unique ID of each crime\n",
    "# * `UCR_General` (integer): Rounded Crime Code\n",
    "# * `TEXT_GENERAL_CODE` (string): Human-readable Crime Code\n",
    "# * `OBJECTID` (integer): Unique row ID\n",
    "# * `POINT_X` (decimal): Latitude where crime occurred\n",
    "# * `POINT_Y` (decimal): Longitude where crime occurred\n",
    "\n",
    "# ### Exercise 3\n",
    "# \n",
    "# *4 points*\n",
    "# \n",
    "# Transformer cette variable `base_rdd` pour qu'elle ne contienne que des objets Python\n",
    "# \n",
    "# * Décomposer chaque ligne à l'aide de la méthode `split`\n",
    "# * Creer une nouvelle RDD nommée `data_rdd` contenant une liste d'instances de la classe `CrimeData` qui est un `nametuple`.\n",
    "# \n",
    "# Ne prenez en compte que les variables `date_string`, `time_string`, `offense`, `latitude` et `longitude`."
   ]
  },
  {
   "cell_type": "code",
   "execution_count": null,
   "id": "8e508c7b",
   "metadata": {},
   "outputs": [],
   "source": [
    "\n",
    "\n",
    "from collections import namedtuple\n",
    "\n",
    "#\n",
    "#\n",
    "#\n",
    "\n",
    "\n",
    "# ### Exercise 4\n",
    "# \n",
    "# *6 points*\n",
    "# \n",
    "# Grouper les observations par crime et compter les.\n",
    "# \n",
    "# Les observations de la variable `offense` présentent quelques anomalies.\n",
    "# Ecrire le code python permettant de nettoyer les données et stocker le résultat dans une nouvelle rdd nommée `cleaned_data`.\n",
    "# \n",
    "# Répondez aux questions suivantes:\n",
    "# \n",
    "#  - Combien comptez-vous de meutres durant la période ?\n",
    "#  \n",
    "#  Réponse:\n",
    "#  \n",
    "#  \n",
    "#  - Combien de cambriolages de résidence ? \n",
    "#  \n",
    "#  Réponse:\n",
    "#  \n",
    "#  \n",
    "#  - Combien de vols à main armée ? \n",
    "#  \n",
    "#  Réponse:"
   ]
  },
  {
   "cell_type": "code",
   "execution_count": null,
   "id": "1e90b263",
   "metadata": {},
   "outputs": [],
   "source": [
    "\n",
    "\n",
    "### Code\n",
    "\n",
    "\n",
    "# ### Exercise 5\n",
    "# \n",
    "# *6 points*\n",
    "# \n",
    "# Ecrire le code Python permettant de tracer :\n",
    "#  - l'histogramme du nombre d'homicides en fonction de l'heure de la journée (0:00-24:00).\n",
    "#  - l'histogramme du nombre d'homicides en fonction du mois de l'année (1-12)."
   ]
  },
  {
   "cell_type": "code",
   "execution_count": null,
   "id": "76e8dd2e",
   "metadata": {
    "lines_to_next_cell": 2
   },
   "outputs": [],
   "source": [
    "\n",
    "\n",
    "###\n",
    "# Code\n",
    "###"
   ]
  },
  {
   "cell_type": "code",
   "execution_count": null,
   "id": "51e081ed",
   "metadata": {
    "lines_to_next_cell": 2
   },
   "outputs": [],
   "source": [
    "\n",
    "\n",
    "get_ipython().run_line_magic('matplotlib', 'inline')\n",
    "from numpy import arange, random\n",
    "import matplotlib.pyplot as plt\n",
    "import seaborn as sns\n",
    "sns.set()\n",
    "plt.rcParams['figure.figsize'] = (10,6)\n",
    "\n",
    "## Remplacer le tableau random par le nombre d'homicides\n",
    "\n",
    "plt.bar(arange(24), random.random(24))\n",
    "plt.xlabel(\"hours\")\n",
    "plt.ylabel(\"homicides\")"
   ]
  }
 ],
 "metadata": {
  "jupytext": {
   "cell_metadata_filter": "-all",
   "encoding": "# coding: utf-8",
   "executable": "/usr/bin/env python",
   "main_language": "python",
   "notebook_metadata_filter": "-all"
  }
 },
 "nbformat": 4,
 "nbformat_minor": 5
}

{
 "cells": [
  {
   "cell_type": "markdown",
   "id": "03a3cb4d",
   "metadata": {},
   "source": [
    "# Outils informatiques pour le \"big data\"\n",
    "\n",
    "## Contrôle du 06 mars 2020"
   ]
  },
  {
   "cell_type": "markdown",
   "id": "6c49d064",
   "metadata": {},
   "source": [
    "### Comptage de mots dans les traductions anglaises de 4 romans francais."
   ]
  },
  {
   "cell_type": "markdown",
   "id": "05824f4a",
   "metadata": {},
   "source": [
    "Nous allons travailler avec les 4 textes des auteurs suivants\n",
    "\n",
    "- Victor Hugo http://www.gutenberg.org/files/135/135-0.txt\n",
    "- Marcel Proust http://www.gutenberg.org/files/7178/7178-8.txt\n",
    "- Emile Zola http://www.gutenberg.org/files/1069/1069-0.txt\n",
    "- Stendhal http://www.gutenberg.org/files/44747/44747-0.txt\n",
    "\n",
    "Téléchargez ces fichiers directement depuis votre navigateur ou exécutez la cellule suivante."
   ]
  },
  {
   "cell_type": "code",
   "execution_count": null,
   "id": "8a9c3701",
   "metadata": {},
   "outputs": [],
   "source": [
    "%%time\n",
    "\n",
    "%mkdir -p books\n",
    "import urllib.request as url\n",
    "url.urlretrieve(\"http://www.gutenberg.org/files/135/135-0.txt\",     filename=\"books/hugo.txt\")\n",
    "url.urlretrieve(\"http://www.gutenberg.org/files/7178/7178-8.txt\",   filename=\"books/proust.txt\")\n",
    "url.urlretrieve(\"http://www.gutenberg.org/files/1069/1069-0.txt\",   filename=\"books/zola.txt\")\n",
    "url.urlretrieve(\"http://www.gutenberg.org/files/44747/44747-0.txt\", filename=\"books/stendhal.txt\")"
   ]
  },
  {
   "cell_type": "markdown",
   "id": "b520621f",
   "metadata": {},
   "source": [
    "## Question 1\n",
    "\n",
    "Paralleliser la boucle précedente en utilisant `concurrent.futures`. Gagnez vous du temps, si oui combien."
   ]
  },
  {
   "cell_type": "code",
   "execution_count": null,
   "id": "9945f62a",
   "metadata": {},
   "outputs": [],
   "source": [
    "%%time\n",
    "import urllib.request as url\n",
    "from concurrent.futures import ThreadPoolExecutor\n",
    "\n",
    "####"
   ]
  },
  {
   "cell_type": "markdown",
   "id": "2696c2cf",
   "metadata": {},
   "source": [
    "### Liste de fichiers\n",
    "\n",
    "- Créer une liste `filenames` contenant les noms des fichiers contenant les textes des 4 livres."
   ]
  },
  {
   "cell_type": "code",
   "execution_count": null,
   "id": "61117068",
   "metadata": {},
   "outputs": [],
   "source": [
    "#\n",
    "#\n",
    "#"
   ]
  },
  {
   "cell_type": "markdown",
   "id": "a72efd6e",
   "metadata": {},
   "source": [
    "### Fonction `wordcount_map`\n",
    "\n",
    "- Coder une fonction nommée `wordcount_map` permettant de lire un fichier et de compter \n",
    "les mots transformés en minuscules et ne contenant que des lettres de l'alphabet.\n",
    "- Cette fonction renvoie un dictionnaire dont chaque mot du texte une clé et son\n",
    "nombre d'occurences la valeur correspondante."
   ]
  },
  {
   "cell_type": "code",
   "execution_count": null,
   "id": "1e5e665b",
   "metadata": {},
   "outputs": [],
   "source": [
    "#\n",
    "#\n",
    "#"
   ]
  },
  {
   "cell_type": "markdown",
   "id": "e7744ec9",
   "metadata": {},
   "source": [
    "- Avec une boucle for, appliquer cette fonction sur la liste `filenames`.\n",
    "- Afficher le nombre de mots différents pour chaque livre"
   ]
  },
  {
   "cell_type": "code",
   "execution_count": null,
   "id": "0b9262b4",
   "metadata": {},
   "outputs": [],
   "source": [
    "filenames"
   ]
  },
  {
   "cell_type": "markdown",
   "id": "c6885df8",
   "metadata": {},
   "source": [
    "### Fonction `wordcount_reduce`\n",
    "\n",
    "- Coder une fonction avec comme argument une liste de dictionnaires calculés chacun par la fonction `wordcount_map` qui retourne un dictionnaire contenant les mots apparaissant dans **tous** les livres avec leur nombre d'occurences total. \n",
    "\n",
    "- Ecrire le code et donner le nombre d'apparitions du mot `but`."
   ]
  },
  {
   "cell_type": "code",
   "execution_count": null,
   "id": "72e310ed",
   "metadata": {},
   "outputs": [],
   "source": [
    "#\n",
    "#\n",
    "#"
   ]
  },
  {
   "cell_type": "markdown",
   "id": "3af3a95d",
   "metadata": {},
   "source": [
    "### Version sequentielle\n",
    "\n",
    "- Ecrire la boucle `for` qui permet de calculer les occurences des mots dans les 4 livres.\n",
    "- Afficher les 5 premiers mots les plus courants."
   ]
  },
  {
   "cell_type": "code",
   "execution_count": null,
   "id": "6ea21ae0",
   "metadata": {},
   "outputs": [],
   "source": [
    "#\n",
    "#\n",
    "#"
   ]
  },
  {
   "cell_type": "markdown",
   "id": "73c33cdc",
   "metadata": {},
   "source": [
    "- Remplacer cette boucle en utilisant `map`"
   ]
  },
  {
   "cell_type": "code",
   "execution_count": null,
   "id": "c3935356",
   "metadata": {},
   "outputs": [],
   "source": [
    "#\n",
    "#\n",
    "#"
   ]
  },
  {
   "cell_type": "markdown",
   "id": "5eae2b25",
   "metadata": {},
   "source": [
    "### Version parallèle\n",
    "\n",
    "- Paralléliser l'étape utilisant `wordcount_map` sur 4 processus avec concurrent.futures"
   ]
  },
  {
   "cell_type": "code",
   "execution_count": null,
   "id": "40762b05",
   "metadata": {},
   "outputs": [],
   "source": [
    "#\n",
    "#\n",
    "#"
   ]
  },
  {
   "cell_type": "markdown",
   "id": "64f81e02",
   "metadata": {},
   "source": [
    "### PySpark\n",
    "\n",
    "- Paralleliser la boucle avec PySpark"
   ]
  },
  {
   "cell_type": "code",
   "execution_count": null,
   "id": "08835cd3",
   "metadata": {},
   "outputs": [],
   "source": [
    "import findspark, pyspark\n",
    "\n",
    "findspark.init(spark_home=\"/usr/local/opt/apache-spark/libexec\")\n",
    "\n",
    "sc = pyspark.SparkContext('local[4]')"
   ]
  },
  {
   "cell_type": "code",
   "execution_count": null,
   "id": "166b9c47",
   "metadata": {},
   "outputs": [],
   "source": [
    "#\n",
    "#\n",
    "#"
   ]
  },
  {
   "cell_type": "code",
   "execution_count": null,
   "id": "7543d434",
   "metadata": {},
   "outputs": [],
   "source": [
    "sc.stop()"
   ]
  },
  {
   "cell_type": "markdown",
   "id": "539dfe58",
   "metadata": {},
   "source": [
    "### Dask.bag\n",
    "\n",
    "- Paralléliser la boucle avec Dask.bag"
   ]
  },
  {
   "cell_type": "code",
   "execution_count": null,
   "id": "6a554aec",
   "metadata": {},
   "outputs": [],
   "source": [
    "%%time\n",
    "\n",
    "\n",
    "import dask.bag as db\n",
    "\n",
    "#\n",
    "#\n",
    "#"
   ]
  },
  {
   "cell_type": "markdown",
   "id": "807032b3",
   "metadata": {},
   "source": [
    "### Dask.delayed\n",
    "\n",
    "- Paralléliser la boucle avec Dask.delayed"
   ]
  },
  {
   "cell_type": "code",
   "execution_count": null,
   "id": "3d5de0af",
   "metadata": {},
   "outputs": [],
   "source": [
    "%%time\n",
    "\n",
    "from dask import delayed, compute\n",
    "\n",
    "#\n",
    "#\n",
    "#"
   ]
  },
  {
   "cell_type": "markdown",
   "id": "7999fcab",
   "metadata": {},
   "source": [
    "## Bonus: \n",
    " - Donner la liste des mots communs au 4 livres commencant par `q`."
   ]
  },
  {
   "cell_type": "code",
   "execution_count": null,
   "id": "ad93d10f",
   "metadata": {},
   "outputs": [],
   "source": [
    "#\n",
    "#\n",
    "#"
   ]
  }
 ],
 "metadata": {
  "jupytext": {
   "encoding": "# -*- coding: utf-8 -*-"
  },
  "kernelspec": {
   "display_name": "Python 3",
   "language": "python",
   "name": "python3"
  }
 },
 "nbformat": 4,
 "nbformat_minor": 5
}

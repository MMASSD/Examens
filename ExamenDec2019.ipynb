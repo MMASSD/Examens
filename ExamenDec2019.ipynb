{
 "cells": [
  {
   "cell_type": "code",
   "execution_count": null,
   "id": "922aad26",
   "metadata": {},
   "outputs": [],
   "source": [
    "%matplotlib inline\n",
    "import matplotlib.pyplot as plt\n",
    "import h5py as h5\n",
    "import numpy as np\n",
    "import dask\n",
    "import dask.array as da\n",
    "from PIL import Image\n",
    "import glob"
   ]
  },
  {
   "cell_type": "markdown",
   "id": "716153cd",
   "metadata": {},
   "source": [
    "# Outils informatiques pour le Big Data\n",
    "\n",
    "## Examen du 10 décembre 2019\n",
    "\n",
    "- **Prénom:**\n",
    "- **Nom:**\n",
    "\n",
    "*Attention vous devez déposer ce fichier sur [cursus](https://cursus.univ-rennes2.fr/course/view.php?id=11467) avant 12h00*\n",
    "\n",
    "Le barême est sur 25 points mais la note maximale sera 20"
   ]
  },
  {
   "cell_type": "markdown",
   "id": "a439d359",
   "metadata": {},
   "source": [
    "Le code SeLaLib (Semi-Lagrangian Library) permet de résoudre numériquement les équations d'évolution d'un plasma dans un processus de fusion magnétique. Lors de son éxécution ce code produit des fichiers permettant la visualisation de différentes quantités physiques. Une simulation a produit 1000 fichiers archivés dans le fichier `fvalues.tgz`"
   ]
  },
  {
   "cell_type": "markdown",
   "id": "75dae349",
   "metadata": {},
   "source": [
    "### Exercice 1 (2 points)\n",
    "\n",
    "Ecrire le programme python permettant d'extraire ces fichiers contenus dans le fichier `fvalues.tgz` dans un répértoire nommé `data`."
   ]
  },
  {
   "cell_type": "code",
   "execution_count": null,
   "id": "6073328a",
   "metadata": {},
   "outputs": [],
   "source": [
    "import os  # library to get directory and file paths\n",
    "import tarfile # this module makes possible to read and write tar archives\n",
    "\n",
    "def extract_data(src, dest):\n",
    "   #\n",
    "   #\n",
    "         \n",
    "extract_data('fvalues','data') "
   ]
  },
  {
   "cell_type": "markdown",
   "id": "245b42ce",
   "metadata": {},
   "source": [
    "### Exercice 2 (1 point)\n",
    "\n",
    "Les valeurs contenues dans ces fichiers représentent la fonction de distribution des électrons dans un espace $(r,\\theta)$. Ce champ stocké dans les fichiers au format hdf5\n",
    "présents dans le répertoire data sont de la forme\n",
    "\"f000*-values.h5\". Créer la liste python `filenames` contenant les chemins vers chacun de ces fichiers."
   ]
  },
  {
   "cell_type": "code",
   "execution_count": null,
   "id": "8ac4494b",
   "metadata": {},
   "outputs": [],
   "source": [
    "filenames = #..."
   ]
  },
  {
   "cell_type": "markdown",
   "id": "4ceaf985",
   "metadata": {},
   "source": [
    "### Exercice 3 ( 2 points)\n",
    "\n",
    "Pour lire ces fichiers au format hdf5 et récupérer les données qui nous intéressent, nous allons utiliser le package [h5py](http://docs.h5py.org/en/stable/)"
   ]
  },
  {
   "cell_type": "code",
   "execution_count": null,
   "id": "8d0759e6",
   "metadata": {},
   "outputs": [],
   "source": [
    "f = h5.File(\"data/f0499-values.h5\", \"r\")"
   ]
  },
  {
   "cell_type": "markdown",
   "id": "d5f974d8",
   "metadata": {},
   "source": [
    "L'objet f possède les mêmes caractéristiques qu'un dictionnaire python. Pour afficher les noms des datasets contenus dans `f`, il suffit d'observer les valeurs retournées par `f.keys()`"
   ]
  },
  {
   "cell_type": "code",
   "execution_count": null,
   "id": "ca55c441",
   "metadata": {},
   "outputs": [],
   "source": [
    "list(f.keys())"
   ]
  },
  {
   "cell_type": "markdown",
   "id": "d8d99392",
   "metadata": {},
   "source": [
    " La valeurs de $f(r,\\theta,t)$ sont contenues dans le dataset nommé `values`. Ces valeurs peuvent être obtenues avec la fonction `f.get(\"values\")`"
   ]
  },
  {
   "cell_type": "code",
   "execution_count": null,
   "id": "d0eb51ce",
   "metadata": {},
   "outputs": [],
   "source": [
    "f.get(\"values\")"
   ]
  },
  {
   "cell_type": "markdown",
   "id": "5b768389",
   "metadata": {},
   "source": [
    "En vous inspirant de la démarche décrite ci dessus, récupérer les valeurs des datasets `x` et `y` du fichier polar-mesh.h5. "
   ]
  },
  {
   "cell_type": "code",
   "execution_count": null,
   "id": "5c2674e5",
   "metadata": {},
   "outputs": [],
   "source": [
    "#\n",
    "#\n",
    "#"
   ]
  },
  {
   "cell_type": "markdown",
   "id": "33d7bdcb",
   "metadata": {},
   "source": [
    "### Exercice 4 (2 points)"
   ]
  },
  {
   "cell_type": "markdown",
   "id": "8ee76248",
   "metadata": {},
   "source": [
    "Pour tracer le contour de $f(r,\\theta)$, utilisons matplotlib:"
   ]
  },
  {
   "cell_type": "code",
   "execution_count": null,
   "id": "5d33b554",
   "metadata": {},
   "outputs": [],
   "source": [
    "z = f.get(\"values\")\n",
    "plt.contourf(x, y, z)\n",
    "plt.axis('equal')\n",
    "plt.tight_layout()\n",
    "plt.axis('off');"
   ]
  },
  {
   "cell_type": "markdown",
   "id": "4718e7b1",
   "metadata": {},
   "source": [
    "On peut sauvegarder cette image avec les instructions:\n",
    "```py\n",
    "plt.savefig(\"data/f0499-values.png\")\n",
    "plt.close() # plot is not displayed on notebook\n",
    "```"
   ]
  },
  {
   "cell_type": "markdown",
   "id": "2ad0aeba",
   "metadata": {},
   "source": [
    "Ecrire une fonction `save_plot` avec comme argument le nom du fichier HDF5. Cette fonction permet de créer le fichier png correspondant. "
   ]
  },
  {
   "cell_type": "code",
   "execution_count": null,
   "id": "9a2ed482",
   "metadata": {},
   "outputs": [],
   "source": [
    "def save_plot( fn ):\n",
    "    #\n",
    "    #\n",
    "    #"
   ]
  },
  {
   "cell_type": "markdown",
   "id": "08f96a15",
   "metadata": {},
   "source": [
    "Utiliser une boucle pour créer tous les fichiers png.\n",
    "Paralléliser cette boucle en utilisant `concurrent.futures`. Calculer l'efficacité de la parallélisation en divisant temps séquentiel par le temps parallèle multiplié par le nombre de processeurs $p$. \n",
    "$$\n",
    "\\mbox{efficiency} = \\frac{ T_1 }{ p T_p} \\times 100\n",
    "$$\n",
    "\n",
    "Une valeur de 100 % correspond à une efficacité parfaite."
   ]
  },
  {
   "cell_type": "code",
   "execution_count": null,
   "id": "5f4b7e89",
   "metadata": {},
   "outputs": [],
   "source": [
    "from tqdm.notebook import tqdm\n",
    "\n",
    "for fn in tqdm(filenames):\n",
    "    save_plot(fn)"
   ]
  },
  {
   "cell_type": "code",
   "execution_count": null,
   "id": "f68a1a70",
   "metadata": {},
   "outputs": [],
   "source": [
    "import concurrent.futures \n",
    "\n",
    "#\n",
    "#"
   ]
  },
  {
   "cell_type": "code",
   "execution_count": null,
   "id": "d6800bd2",
   "metadata": {},
   "outputs": [],
   "source": [
    "efficiency = #..."
   ]
  },
  {
   "cell_type": "markdown",
   "id": "e18134a9",
   "metadata": {},
   "source": [
    "### Exercise 5 (4 points)\n",
    "\n",
    "Ecrire une fonction `scale` permettant de normaliser les données contenues dans un fichier.  L'objectif est de créer une image avec des niveaux de gris. Les valeurs devront etre de type `numpy.uint8`\n",
    "et comprises entre 0 et 255.\n",
    "\n",
    "```py\n",
    "X = np.random.random((4,4))\n",
    "# array([[0.5445994 , 0.69475429, 0.24044862, 0.62431428],\n",
    "#        [0.15061212, 0.70055941, 0.2439314 , 0.51174016],\n",
    "#        [0.93747823, 0.71917128, 0.9646407 , 0.22400018],\n",
    "#        [0.4161566 , 0.26919381, 0.26040576, 0.55806422]])\n",
    "scale(X)\n",
    "# array([[ 90, 146,   0, 218],\n",
    "#        [ 97, 220,  46, 195],\n",
    "#        [ 12,  89, 255,   1],\n",
    "#        [218, 170, 185,  24]], dtype=uint8)\n",
    "```"
   ]
  },
  {
   "cell_type": "code",
   "execution_count": null,
   "id": "341e8fdd",
   "metadata": {},
   "outputs": [],
   "source": [
    "def scale(x) :\n",
    "    #..."
   ]
  },
  {
   "cell_type": "markdown",
   "id": "28daedf4",
   "metadata": {},
   "source": [
    "Le tableau obtenu permet de tracer une image avec le package python [pillow](https://pillow.readthedocs.io/en/stable/). Exécutez la cellule ci-dessous pour\n",
    "voir un exemple."
   ]
  },
  {
   "cell_type": "code",
   "execution_count": null,
   "id": "34bdf762",
   "metadata": {},
   "outputs": [],
   "source": [
    "from PIL import Image\n",
    "\n",
    "# Tableau 2D avec des entiers entre 0 et 255\n",
    "X = np.arange(256).astype(np.uint8) \n",
    "XY = X * X[:,np.newaxis]              \n",
    "\n",
    "Image.fromarray(XY)"
   ]
  },
  {
   "cell_type": "markdown",
   "id": "0cbd0e15",
   "metadata": {},
   "source": [
    "Ecrire une fonction `plot_image`, avec comme argument le nom du fichier\n",
    "qui permet d'afficher image produite par pillow."
   ]
  },
  {
   "cell_type": "code",
   "execution_count": null,
   "id": "9760feb3",
   "metadata": {},
   "outputs": [],
   "source": [
    "def plot_image( fn ):\n",
    "    #...\n",
    "    #...\n",
    "    \n",
    "plot_image(filenames[499])"
   ]
  },
  {
   "cell_type": "markdown",
   "id": "8e9472ca",
   "metadata": {},
   "source": [
    "le package `pillow` est intéressant car beaucoup plus rapide que matplotlib. Il permet par exemple de parcourir les images à l'aide d'un `widget`."
   ]
  },
  {
   "cell_type": "code",
   "execution_count": null,
   "id": "ab6ee558",
   "metadata": {},
   "outputs": [],
   "source": [
    "from tqdm.notebook import tqdm\n",
    "from PIL import Image\n",
    "\n",
    "def create_image(fn):\n",
    "    with h5.File(fn, \"r\") as f:\n",
    "        dataset = \"values\"\n",
    "        Z = f.get(dataset)\n",
    "        return scale(Z)\n",
    "\n",
    "def create_frames(filenames):\n",
    "\n",
    "    return [create_image(fn) for fn in tqdm(filenames)]\n",
    "    \n",
    "frames = create_frames(filenames)"
   ]
  },
  {
   "cell_type": "code",
   "execution_count": null,
   "id": "a9a22c88",
   "metadata": {},
   "outputs": [],
   "source": [
    "from ipywidgets import interact, IntSlider\n",
    "\n",
    "interact(lambda i: Image.fromarray(frames[i]), \n",
    "         i = IntSlider(min=0,\n",
    "                    max=len(frames)-1,\n",
    "                    step=1,\n",
    "                    value=0, \n",
    "                    continuous_update=True))"
   ]
  },
  {
   "cell_type": "markdown",
   "id": "c778c5be",
   "metadata": {},
   "source": [
    "### Exercice 6 (6 points)\n",
    "\n",
    "Pour faciliter le traitement des données nous allons stocker l'ensemble des valeurs dans\n",
    "un `dask.array` à trois dimensions.\n",
    "- La première dimension correspond au numéro du fichier\n",
    "- La deuxième et la troisieme sont les dimensions des tableaux contenus dans chacun des fichiers.\n",
    "écrire le programme Python permettant de créer ce `dask.array` nommé `dask_frames`\n",
    "Pour créer cette variable utiliser la fonction [stack](https://docs.dask.org/en/latest/array-creation.html)"
   ]
  },
  {
   "cell_type": "code",
   "execution_count": null,
   "id": "e3a502fd",
   "metadata": {},
   "outputs": [],
   "source": [
    "values"
   ]
  },
  {
   "cell_type": "code",
   "execution_count": null,
   "id": "a4f548ac",
   "metadata": {},
   "outputs": [],
   "source": [
    "display_frame(values[500,:,:].compute())"
   ]
  },
  {
   "cell_type": "markdown",
   "id": "23ef15f1",
   "metadata": {},
   "source": [
    "### Exercice 7 ( 8 points)\n",
    "\n",
    "Les données proviennent de [UCI Machine Learning Repository Combined Cycle Power Plant Data Set](https://archive.ics.uci.edu/ml/datasets/Combined+Cycle+Power+Plant).\n",
    "Il s'agit de données liées au fonctionnement d'une centrale à gaz en fonction des conditions atmosphériques.\n",
    "\n",
    "**Variables**\n",
    "- AT = Atmospheric Temperature in C\n",
    "- V = Exhaust Vaccum Speed\n",
    "- AP = Atmospheric Pressure\n",
    "- RH = Relative Humidity\n",
    "- PE = Power Output\n",
    "\n",
    "L'objectif de cet exercice est de calculer les corrélations entre ces différentes variables.\n",
    "Les observations sont contenues dans 5 feuilles excel du fichier \"Folds5x2_pp.xlsx\"\n",
    "- Lire le fichier à l'aide de la fonction pandas [read_excel](https://pandas.pydata.org/pandas-docs/stable/reference/api/pandas.read_excel.html). Quel est le type de la variable renvoyée par la fonction ?\n",
    "- Ecrire une fonction `select` permettant de regrouper toutes les observations d'une variable dans une série pandas. La fonction `pandas.concat` peut vous aider.\n",
    "- Utiliser la fonction `select` et la méthode `corr` pour calculer les deux variables les plus corrélées.\n",
    "- Paralléliser cette boucle à l'aide de `concurrent.futures`. Les données étant peu volumineuses avec seulement cinq variables, la parallélisation n'apporte pas de gain particulier."
   ]
  },
  {
   "cell_type": "code",
   "execution_count": null,
   "id": "8b318fc3",
   "metadata": {},
   "outputs": [],
   "source": []
  }
 ],
 "metadata": {
  "jupytext": {
   "encoding": "# -*- coding: utf-8 -*-"
  },
  "kernelspec": {
   "display_name": "Python 3",
   "language": "python",
   "name": "python3"
  }
 },
 "nbformat": 4,
 "nbformat_minor": 5
}
